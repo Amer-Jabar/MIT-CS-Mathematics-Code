{
 "cells": [
  {
   "cell_type": "markdown",
   "id": "cd7bd053-b0e1-482e-a53a-e4a9391fb1f5",
   "metadata": {},
   "source": [
    "### Assumption: If absolute value of X is smaller than 1, then sum of X to the power of i is equal to (1 / 1 - x)"
   ]
  },
  {
   "cell_type": "markdown",
   "id": "c9941a83-b903-4126-9181-e5afed609054",
   "metadata": {},
   "source": [
    "### Notation: |X| < 1 : ∑X^i = (1 / 1 - x)\n",
    "#### Proof by induction*\n"
   ]
  },
  {
   "cell_type": "code",
   "execution_count": 18,
   "id": "9c5a779c-c33c-4d42-9d07-ff3551d1401f",
   "metadata": {},
   "outputs": [],
   "source": [
    "# Setting variables\n",
    "x = 0.4\n",
    "i = 0\n",
    "total = 0"
   ]
  },
  {
   "cell_type": "code",
   "execution_count": 19,
   "id": "5b2bd650-8006-4ed1-9bef-2ac7cbb6a5cb",
   "metadata": {},
   "outputs": [],
   "source": [
    "# Directly calculating the sum\n",
    "def getDirectSum():\n",
    "    global total, x, i\n",
    "    total += x ** i\n",
    "    i += 1\n",
    "    return total;"
   ]
  },
  {
   "cell_type": "code",
   "execution_count": 20,
   "id": "5574fa0a-5318-420a-8300-3a052690ba7e",
   "metadata": {},
   "outputs": [],
   "source": [
    "# Calculating the sum by the given formula\n",
    "def getSumByFormula(x):\n",
    "    return 1 / (1 - x)"
   ]
  },
  {
   "cell_type": "code",
   "execution_count": 21,
   "id": "c57c7fd3-90e4-4625-9083-93b8cc4f6621",
   "metadata": {},
   "outputs": [],
   "source": [
    "resultFromDirectSum = 0;\n",
    "for y in range(10):\n",
    "    resultFromDirectSum = getDirectSum();\n",
    "\n",
    "resultFromFormulaSum = getSumByFormula(x);"
   ]
  },
  {
   "cell_type": "code",
   "execution_count": 22,
   "id": "75a0c550-525a-4220-ac8d-b0403a96d05c",
   "metadata": {},
   "outputs": [],
   "source": [
    "if ( round(resultFromFormulaSum, 6) == round(resultFromDirectSum, 6) ):\n",
    "    print('{} - {}'.format(resultFromFormulaSum, resultFromDirectSum))"
   ]
  },
  {
   "cell_type": "code",
   "execution_count": null,
   "id": "3992cbd6-badb-4124-b488-8f51ca8cc092",
   "metadata": {},
   "outputs": [],
   "source": []
  }
 ],
 "metadata": {
  "kernelspec": {
   "display_name": "Python 3 (ipykernel)",
   "language": "python",
   "name": "python3"
  },
  "language_info": {
   "codemirror_mode": {
    "name": "ipython",
    "version": 3
   },
   "file_extension": ".py",
   "mimetype": "text/x-python",
   "name": "python",
   "nbconvert_exporter": "python",
   "pygments_lexer": "ipython3",
   "version": "3.10.4"
  }
 },
 "nbformat": 4,
 "nbformat_minor": 5
}
