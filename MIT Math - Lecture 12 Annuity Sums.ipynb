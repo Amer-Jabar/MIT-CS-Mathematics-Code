{
 "cells": [
  {
   "cell_type": "markdown",
   "id": "b4418ed6-bb17-4b2f-9f3d-0f7457860a85",
   "metadata": {},
   "source": [
    "#### Question: Would you prefer 1 Million Dollars now, or 50,000 Dollars forever with the interest rate of 0.06?"
   ]
  },
  {
   "cell_type": "markdown",
   "id": "2af256fb-fcd7-4413-af35-c2f4f3329ff5",
   "metadata": {},
   "source": [
    "\n",
    "#### Answer: The first choice, because the second one converges at about 833,000 Dollars when N approaches infinity. N = Number of years passed"
   ]
  },
  {
   "cell_type": "code",
   "execution_count": 35,
   "id": "ae13bd60-eab6-4b02-896f-31bc59cb69d5",
   "metadata": {},
   "outputs": [],
   "source": [
    "# Setting variables\n",
    "pay = 50000\n",
    "total = 0\n",
    "rate = 0.06"
   ]
  },
  {
   "cell_type": "code",
   "execution_count": 36,
   "id": "6609f79b-0955-4b1d-94ca-3efbbcb40d4b",
   "metadata": {},
   "outputs": [],
   "source": [
    "def getPaidByYear():\n",
    "    global total, pay\n",
    "    total += pay;\n",
    "    pay -= pay * rate;\n",
    "\n",
    "    return total, pay"
   ]
  },
  {
   "cell_type": "code",
   "execution_count": 330,
   "id": "6722cce2-fc72-4236-a974-e7138d87827f",
   "metadata": {},
   "outputs": [
    {
     "name": "stdout",
     "output_type": "stream",
     "text": [
      "(833333.3228522128, 0.0006288672274331078)\n"
     ]
    }
   ],
   "source": [
    "print(getPaidByYear())"
   ]
  }
 ],
 "metadata": {
  "kernelspec": {
   "display_name": "Python 3 (ipykernel)",
   "language": "python",
   "name": "python3"
  },
  "language_info": {
   "codemirror_mode": {
    "name": "ipython",
    "version": 3
   },
   "file_extension": ".py",
   "mimetype": "text/x-python",
   "name": "python",
   "nbconvert_exporter": "python",
   "pygments_lexer": "ipython3",
   "version": "3.10.4"
  }
 },
 "nbformat": 4,
 "nbformat_minor": 5
}
